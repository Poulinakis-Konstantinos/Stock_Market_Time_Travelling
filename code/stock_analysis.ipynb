{
 "cells": [
  {
   "cell_type": "code",
   "execution_count": 3,
   "id": "d9d26d3f-62b9-45dd-b7c4-6f85cb659d49",
   "metadata": {},
   "outputs": [],
   "source": [
    "import pandas as pd \n",
    "import numpy as np\n",
    "import os "
   ]
  },
  {
   "cell_type": "markdown",
   "id": "685c9a58-1e12-48e0-8f46-7fe78b496969",
   "metadata": {},
   "source": [
    "### Clean Dataset"
   ]
  },
  {
   "cell_type": "code",
   "execution_count": 4,
   "id": "0648ee2c-060e-462a-8627-f69e57135d52",
   "metadata": {},
   "outputs": [],
   "source": [
    "def delete_empty():\n",
    "    # adjust path according to your system\n",
    "    data_folder_path = r\"...\\Stock_Market_data\\Stocks\"\n",
    "    files = os.listdir(data_folder_path) \n",
    "    for c in files:\n",
    "        path = os.path.join(data_folder_path, c)\n",
    "        try:\n",
    "            df = pd.read_csv(path)    \n",
    "        except:\n",
    "            print(c)   \n",
    "delete_empty()"
   ]
  },
  {
   "cell_type": "markdown",
   "id": "409a178c-89c0-430d-8397-b948f28eee17",
   "metadata": {},
   "source": [
    "### Loading all txt files in a single huge Dataframe (ABORTED DUE TO IMMENSE SIZE ! )"
   ]
  },
  {
   "cell_type": "code",
   "execution_count": 6,
   "id": "5b490642-cc1d-4130-8453-585a92985447",
   "metadata": {},
   "outputs": [],
   "source": [
    "def load_all_data():\n",
    "    big_df = pd.DataFrame()\n",
    "    # adjust path according to your system\n",
    "    data_folder_path = r\"...\\Stock_Market_data\\Stocks\"\n",
    "    for txt in os.listdir(data_folder_path) :\n",
    "        path = os.path.join(data_folder_path, txt)\n",
    "        try:\n",
    "            frame = pd.read_csv(path)\n",
    "            name = txt.split('.')[0]\n",
    "            frame.insert(0, 'Stock', name)\n",
    "        except:\n",
    "            print(f\"Unable to load {txt}\")\n",
    "        big_df = big_df.append(frame)\n",
    "    return big_df\n",
    "    \n",
    "#bigdf = load_all_data()\n",
    "#bigdf"
   ]
  },
  {
   "cell_type": "markdown",
   "id": "cc717b69-a858-409b-8fd6-84039caa9e8d",
   "metadata": {},
   "source": [
    "### Same but for a sample "
   ]
  },
  {
   "cell_type": "code",
   "execution_count": 23,
   "id": "df35ee6a-fda1-4e0a-96f2-2dfddef41f25",
   "metadata": {},
   "outputs": [],
   "source": [
    "def load_stocks(l=[]):\n",
    "    big_df = pd.DataFrame()\n",
    "    # adjust path according to your system\n",
    "    data_folder_path = r\"...\\Stock_Market_data\\Stocks\"\n",
    "    for txt in l :\n",
    "        path = os.path.join(data_folder_path, txt)\n",
    "        try:\n",
    "            frame = pd.read_csv(path)\n",
    "            name = txt.split('.')[0]\n",
    "            frame.insert(0, 'Stock', name)\n",
    "        except:\n",
    "            print(f\"Unable to load {txt}\")\n",
    "        big_df = big_df.append(frame)\n",
    "    return big_df\n",
    "big_df = load_stocks(['intc.us.txt', 'msft.us.txt'])"
   ]
  },
  {
   "cell_type": "code",
   "execution_count": 27,
   "id": "d24ba5a3-23ed-47cb-af09-e9b1b4024129",
   "metadata": {},
   "outputs": [
    {
     "data": {
      "text/plain": [
       "str"
      ]
     },
     "execution_count": 27,
     "metadata": {},
     "output_type": "execute_result"
    }
   ],
   "source": [
    "dates = big_df['Date']\n",
    "dates = dates.sort_values(ignore_index=True)\n",
    "ds = list(set(list(dates)))"
   ]
  },
  {
   "cell_type": "code",
   "execution_count": 31,
   "id": "82744295-4269-4110-9bd8-23ee55cd4916",
   "metadata": {},
   "outputs": [
    {
     "name": "stdout",
     "output_type": "stream",
     "text": [
      "11556\n"
     ]
    },
    {
     "data": {
      "text/plain": [
       "array(['1972-01-07', '1972-01-14', '1972-01-21', ..., '2017-11-08',\n",
       "       '2017-11-09', '2017-11-10'], dtype=object)"
      ]
     },
     "execution_count": 31,
     "metadata": {},
     "output_type": "execute_result"
    }
   ],
   "source": [
    "dates = big_df['Date']\n",
    "\n",
    "dates = dates.unique()\n",
    "dates = np.sort(dates)\n",
    "print(dates.shape[0])\n",
    "dates"
   ]
  },
  {
   "cell_type": "code",
   "execution_count": 43,
   "id": "d4c2139a-8342-40c5-b28d-6628ceef7a92",
   "metadata": {},
   "outputs": [],
   "source": [
    "from datetime import date, timedelta\n",
    "def daterange(start_date, end_date):\n",
    "    for n in range(int((end_date - start_date).days)):\n",
    "        yield start_date + timedelta(n)\n",
    "\n",
    "start_date = date(2013, 1, 1)\n",
    "end_date = date(2015, 6, 2)\n",
    "dates = daterange(start_date, end_date)"
   ]
  },
  {
   "cell_type": "markdown",
   "id": "4c0a4c81-6827-4e76-9d9a-a1e3f8cc7da8",
   "metadata": {},
   "source": [
    "### Analysis-Filtering"
   ]
  },
  {
   "cell_type": "code",
   "execution_count": 32,
   "id": "1b192d2d-ac42-4385-975d-8e7330a3c19d",
   "metadata": {},
   "outputs": [],
   "source": [
    "def cheap_stocks(cutoff):\n",
    "    ''' Find stocks that begin with a value less than a cutoff value\n",
    "    cutoff (int) : Maximum price of a stock '''\n",
    "    \n",
    "    # adjust path according to your system\n",
    "    data_folder_path = r\"...\\Stock_Market_data\\Stocks\"\n",
    "    files = os.listdir(data_folder_path) \n",
    "    cmps = []\n",
    "    for c in files:\n",
    "        path = os.path.join(data_folder_path, c)\n",
    "        df = pd.read_csv(path)\n",
    "        name = c.split('.')[0]\n",
    "        df.insert(0, 'Stock', name)\n",
    "        lows = df['Low']\n",
    "        if min(lows) <= cutoff :\n",
    "            cmps.append([name, min(lows)])\n",
    "    return cmps\n",
    "\n",
    "cheap = cheap_stocks(0.5)"
   ]
  },
  {
   "cell_type": "code",
   "execution_count": 34,
   "id": "4085edc6-cc2f-45d1-968f-a03066155992",
   "metadata": {},
   "outputs": [
    {
     "name": "stdout",
     "output_type": "stream",
     "text": [
      "539\n"
     ]
    }
   ],
   "source": [
    "print(len(cheap))\n",
    "#cheap"
   ]
  },
  {
   "cell_type": "code",
   "execution_count": 11,
   "id": "8e4910d7-b6be-47f3-9355-a1f86d7875cd",
   "metadata": {},
   "outputs": [
    {
     "name": "stderr",
     "output_type": "stream",
     "text": [
      "C:\\Users\\Konpoul\\AppData\\Local\\Temp/ipykernel_1656/4051864731.py:22: RuntimeWarning: divide by zero encountered in double_scalars\n",
      "  growth_ratio = round(final_price/init_price,2)\n"
     ]
    },
    {
     "name": "stdout",
     "output_type": "stream",
     "text": [
      "44\n"
     ]
    }
   ],
   "source": [
    "def available_dates(big_df):\n",
    "    dates = big_df['Date']\n",
    "    dates = dates.sort_values(ignore_index=True)\n",
    "    return dates\n",
    "\n",
    "def growth_stocks(ratio_cutoff):\n",
    "    ''' Finds stocks that provide the best growth potential, as a ratio of final_price/initial_price\n",
    "    ratio_cutoff (float) : minmum growth ratio to filter on'''\n",
    "    \n",
    "    # adjust path according to your system\n",
    "    data_folder_path = r\"...\\Stock_Market_data\\Stocks\"\n",
    "    files = os.listdir(data_folder_path) \n",
    "    cmps = []\n",
    "    \n",
    "    for c in files:\n",
    "        path = os.path.join(data_folder_path, c)\n",
    "        df = pd.read_csv(path)\n",
    "        name = c.split('.')[0]\n",
    "        df.insert(0, 'Stock', name)\n",
    "        init_price = df.loc[0]['Open']\n",
    "        ipo_date = df.loc[0]['Date']\n",
    "        final_price = df.loc[len(df)-1]['Open']\n",
    "        growth_ratio = round(final_price/init_price,2)\n",
    "        if ( growth_ratio > ratio_cutoff):\n",
    "            cmps.append([name,growth_ratio, ipo_date] )\n",
    "\n",
    "    return cmps\n",
    "\n",
    "growth = growth_stocks(150)\n",
    "print(len(growth))\n"
   ]
  },
  {
   "cell_type": "code",
   "execution_count": 12,
   "id": "6291c6e2-a670-4fbd-9aa8-af2c07c89750",
   "metadata": {},
   "outputs": [
    {
     "data": {
      "text/plain": [
       "[['drh', inf, '2005-05-25'],\n",
       " ['hd', 6318.76, '1981-09-22'],\n",
       " ['mo', 2935.62, '1970-01-02'],\n",
       " ['intc', 2891.96, '1972-01-07'],\n",
       " ['wmt', 2651.78, '1972-03-20'],\n",
       " ['amgn', 1975.7, '1984-09-07'],\n",
       " ['msft', 1246.88, '1986-03-13'],\n",
       " ['brk-a', 949.24, '1980-03-17'],\n",
       " ['uve', 907.95, '2005-02-25'],\n",
       " ['adbe', 861.9, '1986-08-14'],\n",
       " ['unh', 809.39, '1990-03-26'],\n",
       " ['mcd', 587.2, '1970-01-02'],\n",
       " ['amzn', 571.62, '1997-05-16'],\n",
       " ['csco', 516.14, '1990-03-26'],\n",
       " ['gd', 482.47, '1977-01-03'],\n",
       " ['ben', 474.33, '1984-09-07'],\n",
       " ['twx', 444.91, '1992-03-19'],\n",
       " ['lmt', 420.01, '1977-01-03'],\n",
       " ['aapl', 413.11, '1984-09-07'],\n",
       " ['bby', 407.68, '1985-04-19'],\n",
       " ['utx', 362.54, '1970-01-02'],\n",
       " ['ba', 345.47, '1970-01-02'],\n",
       " ['kr', 325.05, '1977-01-03'],\n",
       " ['luv', 292.94, '1980-01-02'],\n",
       " ['esrx', 288.19, '1992-06-09'],\n",
       " ['orcl', 280.5, '1988-03-02'],\n",
       " ['adsk', 248.88, '1985-07-01'],\n",
       " ['amat', 238.39, '1984-09-07'],\n",
       " ['jnj', 229.57, '1970-01-02'],\n",
       " ['nke', 227.5, '1987-08-19'],\n",
       " ['afl', 220.26, '1984-07-19'],\n",
       " ['schw', 216.65, '1989-06-30'],\n",
       " ['aet', 208.82, '1977-01-03'],\n",
       " ['syk', 207.56, '1988-02-01'],\n",
       " ['dis', 201.75, '1970-01-02'],\n",
       " ['rost', 197.85, '1986-07-09'],\n",
       " ['ed', 194.57, '1970-01-02'],\n",
       " ['mdt', 192.86, '1981-12-31'],\n",
       " ['sbux', 191.04, '1992-06-26'],\n",
       " ['dhr', 188.89, '1987-11-05'],\n",
       " ['rok', 182.52, '1981-12-31'],\n",
       " ['tjx', 176.17, '1988-01-05'],\n",
       " ['mchp', 167.43, '1993-03-19'],\n",
       " ['cvx', 158.72, '1970-01-02']]"
      ]
     },
     "execution_count": 12,
     "metadata": {},
     "output_type": "execute_result"
    }
   ],
   "source": [
    "# Sort the list of growth companys by growth ratio\n",
    "growth.sort(key= lambda x : x[1], reverse=True)\n",
    "growth"
   ]
  },
  {
   "cell_type": "markdown",
   "id": "85d16e22-0b8f-4301-a15e-5604bfb03423",
   "metadata": {},
   "source": [
    "### Find the intersection of cheap and growth companies (these are good companies to begin investing on)"
   ]
  },
  {
   "cell_type": "code",
   "execution_count": 15,
   "id": "b0c4873c-4d4a-4961-9f9a-a10dd9460582",
   "metadata": {},
   "outputs": [
    {
     "data": {
      "text/plain": [
       "36"
      ]
     },
     "execution_count": 15,
     "metadata": {},
     "output_type": "execute_result"
    }
   ],
   "source": [
    "cheap_cmps = [cheap[i][0] for i in range(len(cheap))]\n",
    "intersection = []\n",
    "for i in range(len(growth)):\n",
    "    cmp = growth[i][0]\n",
    "    if (cmp in cheap_cmps): intersection.append(cmp)\n",
    "len(intersection)"
   ]
  },
  {
   "cell_type": "code",
   "execution_count": 16,
   "id": "99eea903-fbc9-48b4-ac89-f54e6b1798e6",
   "metadata": {},
   "outputs": [
    {
     "data": {
      "text/plain": [
       "['drh',\n",
       " 'hd',\n",
       " 'mo',\n",
       " 'intc',\n",
       " 'wmt',\n",
       " 'amgn',\n",
       " 'msft',\n",
       " 'uve',\n",
       " 'adbe',\n",
       " 'unh',\n",
       " 'mcd',\n",
       " 'csco',\n",
       " 'gd',\n",
       " 'ben',\n",
       " 'twx',\n",
       " 'aapl',\n",
       " 'bby',\n",
       " 'utx',\n",
       " 'ba',\n",
       " 'kr',\n",
       " 'luv',\n",
       " 'esrx',\n",
       " 'orcl',\n",
       " 'adsk',\n",
       " 'amat',\n",
       " 'jnj',\n",
       " 'nke',\n",
       " 'afl',\n",
       " 'schw',\n",
       " 'dis',\n",
       " 'rost',\n",
       " 'ed',\n",
       " 'mdt',\n",
       " 'sbux',\n",
       " 'dhr',\n",
       " 'tjx']"
      ]
     },
     "execution_count": 16,
     "metadata": {},
     "output_type": "execute_result"
    }
   ],
   "source": [
    "#intersection.sort()\n",
    "intersection"
   ]
  },
  {
   "cell_type": "markdown",
   "id": "c10c7df7-4382-444a-b59e-635895f175d0",
   "metadata": {},
   "source": [
    "## Find High Volume Companies\n",
    "Based on the strategy I am following, it quickly became apparent that Volume of a stock is a very important variable \n",
    "in order to maximize gains. \n",
    "\n",
    "Finding high volume companies that also meet the above criteria is of the essence ."
   ]
  },
  {
   "cell_type": "code",
   "execution_count": 19,
   "id": "f5b10735",
   "metadata": {},
   "outputs": [
    {
     "name": "stdout",
     "output_type": "stream",
     "text": [
      "19\n"
     ]
    }
   ],
   "source": [
    "def available_dates(big_df):\n",
    "    dates = big_df['Date']\n",
    "    dates = dates.sort_values(ignore_index=True)\n",
    "    return dates\n",
    "\n",
    "def volume_stocks(cutoff):\n",
    "    ''' Find companies with a mean volume over cutoff.'''\n",
    "    \n",
    "    # adjust path according to your system\n",
    "    data_folder_path = r\"...\\Stock_Market_data\\Stocks\"\n",
    "    files = os.listdir(data_folder_path) \n",
    "    cmps = []\n",
    "    \n",
    "    for c in files:\n",
    "        path = os.path.join(data_folder_path, c)\n",
    "        df = pd.read_csv(path)\n",
    "        name = c.split('.')[0]\n",
    "        df.insert(0, 'Stock', name)\n",
    "        init_price = df.loc[0]['Open']\n",
    "        # Mean volume of a company is calculated as a criterion\n",
    "        mean_vol = df['Volume'].mean()\n",
    "        if mean_vol > cutoff:\n",
    "            cmps.append([name, mean_vol])\n",
    "\n",
    "    return cmps\n",
    "\n",
    "volume = volume_stocks(25000000)\n",
    "print(len(volume))"
   ]
  },
  {
   "cell_type": "code",
   "execution_count": 20,
   "id": "b227ffdb",
   "metadata": {},
   "outputs": [
    {
     "data": {
      "text/plain": [
       "[['aapl', 106641628.3860593],\n",
       " ['msft', 79458003.26218213],\n",
       " ['csco', 71469592.13670304],\n",
       " ['intc', 56466008.66528211],\n",
       " ['bac', 54419994.619245805],\n",
       " ['siri', 49223705.18525461],\n",
       " ['orcl', 44536613.045818865],\n",
       " ['ebay', 41298413.496260904],\n",
       " ['fb', 37707164.986241855],\n",
       " ['s', 36728107.33],\n",
       " ['dd', 34861021.0],\n",
       " ['mo', 32593646.064518802],\n",
       " ['t', 31099863.08975122],\n",
       " ['vale', 28418644.384879727],\n",
       " ['brk-b', 27890478.004062787],\n",
       " ['sogo', 27541219.5],\n",
       " ['snap', 26809068.38202247],\n",
       " ['pfe', 26292679.951669984],\n",
       " ['nok', 26279031.153389566]]"
      ]
     },
     "execution_count": 20,
     "metadata": {},
     "output_type": "execute_result"
    }
   ],
   "source": [
    "# Sort by volume \n",
    "volume.sort(key= lambda x : x[1], reverse=True)\n",
    "volume"
   ]
  },
  {
   "cell_type": "markdown",
   "id": "c27b5d3f-03c6-48ec-96e0-ee3465e86684",
   "metadata": {},
   "source": [
    "## Conclusions\n",
    "Companies that fit our strategy are companies with low initial price, less than 0.5 dollars, \n",
    "with big growth potential and huge volumes for effective intraday trading.\n",
    "\n",
    "Some great candidates (in no particular order) include :\n",
    "\n",
    "- AAPL\n",
    "- MSFT \n",
    "- INTC\n"
   ]
  },
  {
   "cell_type": "markdown",
   "id": "0b19183e-524a-4705-8979-c2b5acea4dee",
   "metadata": {},
   "source": [
    "#### Random visual checks on dataframes, to provide quick insights"
   ]
  },
  {
   "cell_type": "code",
   "execution_count": 43,
   "id": "b44f9d37",
   "metadata": {},
   "outputs": [
    {
     "data": {
      "text/html": [
       "<div>\n",
       "<style scoped>\n",
       "    .dataframe tbody tr th:only-of-type {\n",
       "        vertical-align: middle;\n",
       "    }\n",
       "\n",
       "    .dataframe tbody tr th {\n",
       "        vertical-align: top;\n",
       "    }\n",
       "\n",
       "    .dataframe thead th {\n",
       "        text-align: right;\n",
       "    }\n",
       "</style>\n",
       "<table border=\"1\" class=\"dataframe\">\n",
       "  <thead>\n",
       "    <tr style=\"text-align: right;\">\n",
       "      <th></th>\n",
       "      <th>Date</th>\n",
       "      <th>Open</th>\n",
       "      <th>High</th>\n",
       "      <th>Low</th>\n",
       "      <th>Close</th>\n",
       "      <th>Volume</th>\n",
       "      <th>OpenInt</th>\n",
       "    </tr>\n",
       "  </thead>\n",
       "  <tbody>\n",
       "    <tr>\n",
       "      <th>0</th>\n",
       "      <td>1986-03-13</td>\n",
       "      <td>0.06720</td>\n",
       "      <td>0.07533</td>\n",
       "      <td>0.06720</td>\n",
       "      <td>0.07533</td>\n",
       "      <td>1371330506</td>\n",
       "      <td>0</td>\n",
       "    </tr>\n",
       "    <tr>\n",
       "      <th>1</th>\n",
       "      <td>1986-03-14</td>\n",
       "      <td>0.07533</td>\n",
       "      <td>0.07533</td>\n",
       "      <td>0.07533</td>\n",
       "      <td>0.07533</td>\n",
       "      <td>409569463</td>\n",
       "      <td>0</td>\n",
       "    </tr>\n",
       "    <tr>\n",
       "      <th>2</th>\n",
       "      <td>1986-03-17</td>\n",
       "      <td>0.07533</td>\n",
       "      <td>0.07533</td>\n",
       "      <td>0.07533</td>\n",
       "      <td>0.07533</td>\n",
       "      <td>176995245</td>\n",
       "      <td>0</td>\n",
       "    </tr>\n",
       "    <tr>\n",
       "      <th>3</th>\n",
       "      <td>1986-03-18</td>\n",
       "      <td>0.07533</td>\n",
       "      <td>0.07533</td>\n",
       "      <td>0.07533</td>\n",
       "      <td>0.07533</td>\n",
       "      <td>90067008</td>\n",
       "      <td>0</td>\n",
       "    </tr>\n",
       "    <tr>\n",
       "      <th>4</th>\n",
       "      <td>1986-03-19</td>\n",
       "      <td>0.07533</td>\n",
       "      <td>0.07533</td>\n",
       "      <td>0.07533</td>\n",
       "      <td>0.07533</td>\n",
       "      <td>63655515</td>\n",
       "      <td>0</td>\n",
       "    </tr>\n",
       "    <tr>\n",
       "      <th>...</th>\n",
       "      <td>...</td>\n",
       "      <td>...</td>\n",
       "      <td>...</td>\n",
       "      <td>...</td>\n",
       "      <td>...</td>\n",
       "      <td>...</td>\n",
       "      <td>...</td>\n",
       "    </tr>\n",
       "    <tr>\n",
       "      <th>7978</th>\n",
       "      <td>2017-11-06</td>\n",
       "      <td>84.20000</td>\n",
       "      <td>84.70000</td>\n",
       "      <td>84.08250</td>\n",
       "      <td>84.47000</td>\n",
       "      <td>19852151</td>\n",
       "      <td>0</td>\n",
       "    </tr>\n",
       "    <tr>\n",
       "      <th>7979</th>\n",
       "      <td>2017-11-07</td>\n",
       "      <td>84.77000</td>\n",
       "      <td>84.90000</td>\n",
       "      <td>83.93000</td>\n",
       "      <td>84.26000</td>\n",
       "      <td>17927878</td>\n",
       "      <td>0</td>\n",
       "    </tr>\n",
       "    <tr>\n",
       "      <th>7980</th>\n",
       "      <td>2017-11-08</td>\n",
       "      <td>84.14000</td>\n",
       "      <td>84.61000</td>\n",
       "      <td>83.83000</td>\n",
       "      <td>84.56000</td>\n",
       "      <td>18029584</td>\n",
       "      <td>0</td>\n",
       "    </tr>\n",
       "    <tr>\n",
       "      <th>7981</th>\n",
       "      <td>2017-11-09</td>\n",
       "      <td>84.11000</td>\n",
       "      <td>84.27000</td>\n",
       "      <td>82.90000</td>\n",
       "      <td>84.09000</td>\n",
       "      <td>21175384</td>\n",
       "      <td>0</td>\n",
       "    </tr>\n",
       "    <tr>\n",
       "      <th>7982</th>\n",
       "      <td>2017-11-10</td>\n",
       "      <td>83.79000</td>\n",
       "      <td>84.09500</td>\n",
       "      <td>83.23000</td>\n",
       "      <td>83.87000</td>\n",
       "      <td>19396301</td>\n",
       "      <td>0</td>\n",
       "    </tr>\n",
       "  </tbody>\n",
       "</table>\n",
       "<p>7983 rows × 7 columns</p>\n",
       "</div>"
      ],
      "text/plain": [
       "            Date      Open      High       Low     Close      Volume  OpenInt\n",
       "0     1986-03-13   0.06720   0.07533   0.06720   0.07533  1371330506        0\n",
       "1     1986-03-14   0.07533   0.07533   0.07533   0.07533   409569463        0\n",
       "2     1986-03-17   0.07533   0.07533   0.07533   0.07533   176995245        0\n",
       "3     1986-03-18   0.07533   0.07533   0.07533   0.07533    90067008        0\n",
       "4     1986-03-19   0.07533   0.07533   0.07533   0.07533    63655515        0\n",
       "...          ...       ...       ...       ...       ...         ...      ...\n",
       "7978  2017-11-06  84.20000  84.70000  84.08250  84.47000    19852151        0\n",
       "7979  2017-11-07  84.77000  84.90000  83.93000  84.26000    17927878        0\n",
       "7980  2017-11-08  84.14000  84.61000  83.83000  84.56000    18029584        0\n",
       "7981  2017-11-09  84.11000  84.27000  82.90000  84.09000    21175384        0\n",
       "7982  2017-11-10  83.79000  84.09500  83.23000  83.87000    19396301        0\n",
       "\n",
       "[7983 rows x 7 columns]"
      ]
     },
     "execution_count": 43,
     "metadata": {},
     "output_type": "execute_result"
    }
   ],
   "source": [
    "# adjust path according to your system\n",
    "data_folder_path = r\"...\\Stock_Market_data\\Stocks\"\n",
    "c = 'msft.us.txt'\n",
    "path = os.path.join(data_folder_path, c)\n",
    "df = pd.read_csv(path)\n",
    "df"
   ]
  },
  {
   "cell_type": "code",
   "execution_count": 39,
   "id": "8a8fc75b",
   "metadata": {},
   "outputs": [
    {
     "data": {
      "text/html": [
       "<div>\n",
       "<style scoped>\n",
       "    .dataframe tbody tr th:only-of-type {\n",
       "        vertical-align: middle;\n",
       "    }\n",
       "\n",
       "    .dataframe tbody tr th {\n",
       "        vertical-align: top;\n",
       "    }\n",
       "\n",
       "    .dataframe thead th {\n",
       "        text-align: right;\n",
       "    }\n",
       "</style>\n",
       "<table border=\"1\" class=\"dataframe\">\n",
       "  <thead>\n",
       "    <tr style=\"text-align: right;\">\n",
       "      <th></th>\n",
       "      <th>Date</th>\n",
       "      <th>Open</th>\n",
       "      <th>High</th>\n",
       "      <th>Low</th>\n",
       "      <th>Close</th>\n",
       "      <th>Volume</th>\n",
       "      <th>OpenInt</th>\n",
       "    </tr>\n",
       "  </thead>\n",
       "  <tbody>\n",
       "    <tr>\n",
       "      <th>0</th>\n",
       "      <td>2012-05-18</td>\n",
       "      <td>42.05</td>\n",
       "      <td>45.000</td>\n",
       "      <td>38.000</td>\n",
       "      <td>38.23</td>\n",
       "      <td>580438450</td>\n",
       "      <td>0</td>\n",
       "    </tr>\n",
       "    <tr>\n",
       "      <th>1</th>\n",
       "      <td>2012-05-21</td>\n",
       "      <td>36.53</td>\n",
       "      <td>36.660</td>\n",
       "      <td>33.000</td>\n",
       "      <td>34.03</td>\n",
       "      <td>169418988</td>\n",
       "      <td>0</td>\n",
       "    </tr>\n",
       "    <tr>\n",
       "      <th>2</th>\n",
       "      <td>2012-05-22</td>\n",
       "      <td>32.61</td>\n",
       "      <td>33.590</td>\n",
       "      <td>30.940</td>\n",
       "      <td>31.00</td>\n",
       "      <td>101876406</td>\n",
       "      <td>0</td>\n",
       "    </tr>\n",
       "    <tr>\n",
       "      <th>3</th>\n",
       "      <td>2012-05-23</td>\n",
       "      <td>31.37</td>\n",
       "      <td>32.500</td>\n",
       "      <td>31.360</td>\n",
       "      <td>32.00</td>\n",
       "      <td>73678512</td>\n",
       "      <td>0</td>\n",
       "    </tr>\n",
       "    <tr>\n",
       "      <th>4</th>\n",
       "      <td>2012-05-24</td>\n",
       "      <td>32.95</td>\n",
       "      <td>33.210</td>\n",
       "      <td>31.770</td>\n",
       "      <td>33.03</td>\n",
       "      <td>42560731</td>\n",
       "      <td>0</td>\n",
       "    </tr>\n",
       "    <tr>\n",
       "      <th>...</th>\n",
       "      <td>...</td>\n",
       "      <td>...</td>\n",
       "      <td>...</td>\n",
       "      <td>...</td>\n",
       "      <td>...</td>\n",
       "      <td>...</td>\n",
       "      <td>...</td>\n",
       "    </tr>\n",
       "    <tr>\n",
       "      <th>1376</th>\n",
       "      <td>2017-11-06</td>\n",
       "      <td>178.56</td>\n",
       "      <td>180.450</td>\n",
       "      <td>178.310</td>\n",
       "      <td>180.17</td>\n",
       "      <td>13275578</td>\n",
       "      <td>0</td>\n",
       "    </tr>\n",
       "    <tr>\n",
       "      <th>1377</th>\n",
       "      <td>2017-11-07</td>\n",
       "      <td>180.50</td>\n",
       "      <td>180.748</td>\n",
       "      <td>179.403</td>\n",
       "      <td>180.25</td>\n",
       "      <td>12903836</td>\n",
       "      <td>0</td>\n",
       "    </tr>\n",
       "    <tr>\n",
       "      <th>1378</th>\n",
       "      <td>2017-11-08</td>\n",
       "      <td>179.79</td>\n",
       "      <td>180.350</td>\n",
       "      <td>179.110</td>\n",
       "      <td>179.56</td>\n",
       "      <td>10467606</td>\n",
       "      <td>0</td>\n",
       "    </tr>\n",
       "    <tr>\n",
       "      <th>1379</th>\n",
       "      <td>2017-11-09</td>\n",
       "      <td>178.31</td>\n",
       "      <td>179.400</td>\n",
       "      <td>177.090</td>\n",
       "      <td>179.30</td>\n",
       "      <td>12602188</td>\n",
       "      <td>0</td>\n",
       "    </tr>\n",
       "    <tr>\n",
       "      <th>1380</th>\n",
       "      <td>2017-11-10</td>\n",
       "      <td>178.35</td>\n",
       "      <td>179.100</td>\n",
       "      <td>177.960</td>\n",
       "      <td>178.46</td>\n",
       "      <td>11060355</td>\n",
       "      <td>0</td>\n",
       "    </tr>\n",
       "  </tbody>\n",
       "</table>\n",
       "<p>1381 rows × 7 columns</p>\n",
       "</div>"
      ],
      "text/plain": [
       "            Date    Open     High      Low   Close     Volume  OpenInt\n",
       "0     2012-05-18   42.05   45.000   38.000   38.23  580438450        0\n",
       "1     2012-05-21   36.53   36.660   33.000   34.03  169418988        0\n",
       "2     2012-05-22   32.61   33.590   30.940   31.00  101876406        0\n",
       "3     2012-05-23   31.37   32.500   31.360   32.00   73678512        0\n",
       "4     2012-05-24   32.95   33.210   31.770   33.03   42560731        0\n",
       "...          ...     ...      ...      ...     ...        ...      ...\n",
       "1376  2017-11-06  178.56  180.450  178.310  180.17   13275578        0\n",
       "1377  2017-11-07  180.50  180.748  179.403  180.25   12903836        0\n",
       "1378  2017-11-08  179.79  180.350  179.110  179.56   10467606        0\n",
       "1379  2017-11-09  178.31  179.400  177.090  179.30   12602188        0\n",
       "1380  2017-11-10  178.35  179.100  177.960  178.46   11060355        0\n",
       "\n",
       "[1381 rows x 7 columns]"
      ]
     },
     "execution_count": 39,
     "metadata": {},
     "output_type": "execute_result"
    }
   ],
   "source": [
    "# adjust path according to your system\n",
    "data_folder_path = r\"...\\Stock_Market_data\\Stocks\"\n",
    "c = 'fb.us.txt'\n",
    "path = os.path.join(data_folder_path, c)\n",
    "df = pd.read_csv(path)\n",
    "df"
   ]
  }
 ],
 "metadata": {
  "kernelspec": {
   "display_name": "Python 3 (ipykernel)",
   "language": "python",
   "name": "python3"
  },
  "language_info": {
   "codemirror_mode": {
    "name": "ipython",
    "version": 3
   },
   "file_extension": ".py",
   "mimetype": "text/x-python",
   "name": "python",
   "nbconvert_exporter": "python",
   "pygments_lexer": "ipython3",
   "version": "3.9.7"
  }
 },
 "nbformat": 4,
 "nbformat_minor": 5
}
